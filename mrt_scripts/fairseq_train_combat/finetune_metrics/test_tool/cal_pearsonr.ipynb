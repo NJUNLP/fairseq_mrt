{
 "metadata": {
  "language_info": {
   "codemirror_mode": {
    "name": "ipython",
    "version": 3
   },
   "file_extension": ".py",
   "mimetype": "text/x-python",
   "name": "python",
   "nbconvert_exporter": "python",
   "pygments_lexer": "ipython3",
   "version": "3.7.3-final"
  },
  "orig_nbformat": 2,
  "kernelspec": {
   "name": "python3",
   "display_name": "Python 3 (ipykernel)"
  }
 },
 "nbformat": 4,
 "nbformat_minor": 2,
 "cells": [
  {
   "cell_type": "code",
   "execution_count": 1,
   "metadata": {},
   "outputs": [],
   "source": [
    "import pandas as pd\n",
    "from scipy.stats import pearsonr"
   ]
  },
  {
   "cell_type": "code",
   "execution_count": 2,
   "metadata": {},
   "outputs": [],
   "source": [
    "gold_score_path = '/opt/tiger/fake_arnold/wmt_metrics_da_17-21/test19-scores.csv'\n",
    "gold_score = pd.read_csv(gold_score_path)\n"
   ]
  },
  {
   "cell_type": "code",
   "execution_count": 3,
   "metadata": {},
   "outputs": [
    {
     "output_type": "execute_result",
     "data": {
      "text/plain": [
       "(0.5970458569794411, 0.0)"
      ]
     },
     "metadata": {},
     "execution_count": 3
    }
   ],
   "source": [
    "origin_comet_pred_path = '/opt/tiger/fake_arnold/fairseq_mrt/COMET_mello/comet_pred/wmt20-comet-da_pred.csv'\n",
    "origin_comet_pred_score = pd.read_csv(origin_comet_pred_path)\n",
    "pearsonr(gold_score['score'], origin_comet_pred_score['comet_pred_score'])"
   ]
  },
  {
   "cell_type": "code",
   "execution_count": 4,
   "metadata": {},
   "outputs": [
    {
     "output_type": "execute_result",
     "data": {
      "text/plain": [
       "(0.5823155791503414, 0.0)"
      ]
     },
     "metadata": {},
     "execution_count": 4
    }
   ],
   "source": [
    "reproduce_comet_pred_path = '/opt/tiger/fake_arnold/fairseq_mrt/COMET_mello/comet_pred/comet_reproduce.csv'\n",
    "reproduce_comet_pred_score = pd.read_csv(reproduce_comet_pred_path)\n",
    "pearsonr(gold_score['score'], reproduce_comet_pred_score['comet_pred_score'])"
   ]
  },
  {
   "cell_type": "code",
   "execution_count": 5,
   "metadata": {},
   "outputs": [
    {
     "output_type": "execute_result",
     "data": {
      "text/plain": [
       "(0.36971668670121083, 0.0)"
      ]
     },
     "metadata": {},
     "execution_count": 5
    }
   ],
   "source": [
    "comet_finetune_with_bertscore_pred_path = '/opt/tiger/fake_arnold/fairseq_mrt/COMET_mello/comet_pred/comet_finetune_with_bertscore_pred.csv'\n",
    "comet_finetune_with_bertscore_pred = pd.read_csv(comet_finetune_with_bertscore_pred_path)\n",
    "pearsonr(gold_score['score'], comet_finetune_with_bertscore_pred['comet_pred_score'])"
   ]
  },
  {
   "cell_type": "code",
   "execution_count": 6,
   "metadata": {},
   "outputs": [
    {
     "output_type": "execute_result",
     "data": {
      "text/plain": [
       "(0.3423044301978944, 0.0)"
      ]
     },
     "metadata": {},
     "execution_count": 6
    }
   ],
   "source": [
    "comet_finetune_with_bleu_pred_path = '/opt/tiger/fake_arnold/fairseq_mrt/COMET_mello/comet_pred/comet_finetune_with_bleu_pred.csv'\n",
    "comet_finetune_with_bleu_pred = pd.read_csv(comet_finetune_with_bleu_pred_path)\n",
    "pearsonr(gold_score['score'], comet_finetune_with_bleu_pred['comet_pred_score'])"
   ]
  },
  {
   "cell_type": "code",
   "execution_count": 4,
   "metadata": {},
   "outputs": [
    {
     "output_type": "execute_result",
     "data": {
      "text/plain": [
       "(0.44638467911849855, 0.0)"
      ]
     },
     "metadata": {},
     "execution_count": 4
    }
   ],
   "source": [
    "# with mrt\n",
    "comet_finetune_with_bleu_pred_path = '/opt/tiger/fake_arnold/COMET_mello/comet_pred/comet_finetune_with_bleu_pred.csv'\n",
    "comet_finetune_with_bleu_pred = pd.read_csv(comet_finetune_with_bleu_pred_path)\n",
    "pearsonr(gold_score['score'], comet_finetune_with_bleu_pred['comet_pred_score'])"
   ]
  },
  {
   "cell_type": "code",
   "execution_count": 6,
   "metadata": {},
   "outputs": [
    {
     "output_type": "execute_result",
     "data": {
      "text/plain": [
       "(0.5014183197731235, 0.0)"
      ]
     },
     "metadata": {},
     "execution_count": 6
    }
   ],
   "source": [
    "# with mrt\n",
    "comet_finetune_with_bertscore_pred_path = '/opt/tiger/fake_arnold/COMET_mello/comet_pred/comet_finetune_with_bertscore_pred.csv'\n",
    "comet_finetune_with_bertscore_pred = pd.read_csv(comet_finetune_with_bertscore_pred_path)\n",
    "pearsonr(gold_score['score'], comet_finetune_with_bertscore_pred['comet_pred_score'])"
   ]
  },
  {
   "cell_type": "code",
   "execution_count": 9,
   "metadata": {},
   "outputs": [
    {
     "output_type": "execute_result",
     "data": {
      "text/plain": [
       "(0.44327546736855583, 0.0)"
      ]
     },
     "metadata": {},
     "execution_count": 9
    }
   ],
   "source": [
    "# with mrt\n",
    "comet_finetune_with_bleu_bertscore_pred_path = '/opt/tiger/fake_arnold/COMET_mello/comet_pred/comet_finetune_with_bleu0.8_bertscore0.2_pred.csv'\n",
    "comet_finetune_with_bleu_bertscore_pred = pd.read_csv(comet_finetune_with_bleu_bertscore_pred_path)\n",
    "pearsonr(gold_score['score'], comet_finetune_with_bleu_bertscore_pred['comet_pred_score'])"
   ]
  },
  {
   "cell_type": "code",
   "execution_count": null,
   "metadata": {},
   "outputs": [],
   "source": []
  }
 ]
}