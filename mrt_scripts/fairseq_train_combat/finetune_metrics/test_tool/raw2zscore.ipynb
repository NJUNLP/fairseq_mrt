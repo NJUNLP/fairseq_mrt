{
 "metadata": {
  "language_info": {
   "codemirror_mode": {
    "name": "ipython",
    "version": 3
   },
   "file_extension": ".py",
   "mimetype": "text/x-python",
   "name": "python",
   "nbconvert_exporter": "python",
   "pygments_lexer": "ipython3",
   "version": "3.7.3-final"
  },
  "orig_nbformat": 2,
  "kernelspec": {
   "name": "Python 3.7.3 64-bit",
   "display_name": "Python 3.7.3 64-bit",
   "metadata": {
    "interpreter": {
     "hash": "31f2aee4e71d21fbe5cf8b01ff0e069b9275f58929596ceb00d14d90e3e16cd6"
    }
   }
  }
 },
 "nbformat": 4,
 "nbformat_minor": 2,
 "cells": [
  {
   "cell_type": "code",
   "execution_count": 2,
   "metadata": {},
   "outputs": [],
   "source": [
    "import pandas as pd\n",
    "import numpy as np\n",
    "import csv\n",
    "from sklearn import preprocessing"
   ]
  },
  {
   "source": [
    "### raw 2 z-score"
   ],
   "cell_type": "markdown",
   "metadata": {}
  },
  {
   "cell_type": "code",
   "execution_count": 5,
   "metadata": {},
   "outputs": [],
   "source": [
    "bleu_pred_path = '/opt/tiger/fake_arnold/wmt_metrics_da_mqm/wmt_metrics_da_17-21/kd/scores-17-19_bleu_pred_raw.csv'\n",
    "bleu_pred_score = pd.read_csv(bleu_pred_path)"
   ]
  },
  {
   "cell_type": "code",
   "execution_count": 6,
   "metadata": {},
   "outputs": [],
   "source": [
    "raw_score = bleu_pred_score.raw_score\n",
    "z_score = preprocessing.scale(raw_score)\n",
    "bleu_pred_score['score'] = pd.DataFrame(z_score)"
   ]
  },
  {
   "cell_type": "code",
   "execution_count": 7,
   "metadata": {},
   "outputs": [],
   "source": [
    "bleu_pred_with_z_path = '/opt/tiger/fake_arnold/wmt_metrics_da_mqm/wmt_metrics_da_17-21/kd/scores-17-19_bleu_pred_z_score.csv'\n",
    "bleu_pred_score.to_csv(bleu_pred_with_z_path, index=False)"
   ]
  },
  {
   "cell_type": "code",
   "execution_count": 3,
   "metadata": {},
   "outputs": [],
   "source": [
    "bertscore_pred_path = '/opt/tiger/fake_arnold/wmt_metrics_da_mqm/wmt_metrics_da_17-21/kd/scores-17-19_bertscore_pred_raw.csv'\n",
    "bertscore_pred_score = pd.read_csv(bertscore_pred_path)\n",
    "raw_score = bertscore_pred_score.raw_score\n",
    "z_score = preprocessing.scale(raw_score)\n",
    "bertscore_pred_score['score'] = pd.DataFrame(z_score)\n",
    "bertscore_pred_with_z_path = '/opt/tiger/fake_arnold/wmt_metrics_da_mqm/wmt_metrics_da_17-21/kd/scores-17-19_bertscore_pred_z_score.csv'\n",
    "bertscore_pred_score.to_csv(bertscore_pred_with_z_path, index=False)"
   ]
  },
  {
   "cell_type": "code",
   "execution_count": null,
   "metadata": {},
   "outputs": [],
   "source": []
  }
 ]
}